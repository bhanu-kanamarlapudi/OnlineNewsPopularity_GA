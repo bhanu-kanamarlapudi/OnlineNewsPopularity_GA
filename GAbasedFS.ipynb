{
 "cells": [
  {
   "cell_type": "code",
   "execution_count": 1,
   "id": "d0d0f7d0",
   "metadata": {},
   "outputs": [],
   "source": [
    "import pandas as pd"
   ]
  },
  {
   "cell_type": "code",
   "execution_count": 2,
   "id": "2eea522d",
   "metadata": {},
   "outputs": [],
   "source": [
    "def popular(shares):\n",
    "    sum = 0\n",
    "    popular_list = []\n",
    "    for i in shares:\n",
    "        sum+=i\n",
    "    avg = sum/len(shares)\n",
    "    for i in shares:\n",
    "        if i >= avg:\n",
    "            popular_list.append(True)\n",
    "        else:\n",
    "            popular_list.append(False)\n",
    "    return popular_list"
   ]
  },
  {
   "cell_type": "code",
   "execution_count": 3,
   "id": "a6f32bd1",
   "metadata": {},
   "outputs": [
    {
     "data": {
      "text/plain": [
       "Index(['url', ' timedelta', ' n_tokens_title', ' n_tokens_content',\n",
       "       ' n_unique_tokens', ' n_non_stop_words', ' n_non_stop_unique_tokens',\n",
       "       ' num_hrefs', ' num_self_hrefs', ' num_imgs', ' num_videos',\n",
       "       ' average_token_length', ' num_keywords', ' data_channel_is_lifestyle',\n",
       "       ' data_channel_is_entertainment', ' data_channel_is_bus',\n",
       "       ' data_channel_is_socmed', ' data_channel_is_tech',\n",
       "       ' data_channel_is_world', ' kw_min_min', ' kw_max_min', ' kw_avg_min',\n",
       "       ' kw_min_max', ' kw_max_max', ' kw_avg_max', ' kw_min_avg',\n",
       "       ' kw_max_avg', ' kw_avg_avg', ' self_reference_min_shares',\n",
       "       ' self_reference_max_shares', ' self_reference_avg_sharess',\n",
       "       ' weekday_is_monday', ' weekday_is_tuesday', ' weekday_is_wednesday',\n",
       "       ' weekday_is_thursday', ' weekday_is_friday', ' weekday_is_saturday',\n",
       "       ' weekday_is_sunday', ' is_weekend', ' LDA_00', ' LDA_01', ' LDA_02',\n",
       "       ' LDA_03', ' LDA_04', ' global_subjectivity',\n",
       "       ' global_sentiment_polarity', ' global_rate_positive_words',\n",
       "       ' global_rate_negative_words', ' rate_positive_words',\n",
       "       ' rate_negative_words', ' avg_positive_polarity',\n",
       "       ' min_positive_polarity', ' max_positive_polarity',\n",
       "       ' avg_negative_polarity', ' min_negative_polarity',\n",
       "       ' max_negative_polarity', ' title_subjectivity',\n",
       "       ' title_sentiment_polarity', ' abs_title_subjectivity',\n",
       "       ' abs_title_sentiment_polarity', ' shares', 'Popularity'],\n",
       "      dtype='object')"
      ]
     },
     "execution_count": 3,
     "metadata": {},
     "output_type": "execute_result"
    }
   ],
   "source": [
    "data = pd.read_csv(\"OnlineNewsPopularity.csv\")\n",
    "columns = data.columns\n",
    "shares = data[' shares']\n",
    "pop = popular(shares)\n",
    "data['Popularity'] = pop\n",
    "col = data.columns\n",
    "col"
   ]
  },
  {
   "cell_type": "code",
   "execution_count": 35,
   "id": "d916a8b2",
   "metadata": {},
   "outputs": [
    {
     "data": {
      "text/plain": [
       " timedelta                        0.027084\n",
       " n_tokens_title                  -0.019091\n",
       " n_tokens_content                 0.008368\n",
       " n_unique_tokens                  0.009023\n",
       " n_non_stop_words                 0.008829\n",
       " n_non_stop_unique_tokens         0.007964\n",
       " num_hrefs                        0.076076\n",
       " num_self_hrefs                   0.009969\n",
       " num_imgs                         0.070907\n",
       " num_videos                       0.031865\n",
       " average_token_length            -0.041889\n",
       " num_keywords                     0.053570\n",
       " data_channel_is_lifestyle        0.023560\n",
       " data_channel_is_entertainment   -0.045860\n",
       " data_channel_is_bus             -0.039556\n",
       " data_channel_is_socmed           0.057217\n",
       " data_channel_is_tech             0.017562\n",
       " data_channel_is_world           -0.110713\n",
       " kw_min_min                       0.004375\n",
       " kw_max_min                       0.025418\n",
       " kw_avg_min                       0.028177\n",
       " kw_min_max                       0.013860\n",
       " kw_max_max                       0.005860\n",
       " kw_avg_max                       0.052896\n",
       " kw_min_avg                       0.088581\n",
       " kw_max_avg                       0.090007\n",
       " kw_avg_avg                       0.182533\n",
       " self_reference_min_shares        0.064186\n",
       " self_reference_max_shares        0.062602\n",
       " self_reference_avg_sharess       0.072884\n",
       " weekday_is_monday               -0.001748\n",
       " weekday_is_tuesday              -0.020743\n",
       " weekday_is_wednesday            -0.019599\n",
       " weekday_is_thursday             -0.017468\n",
       " weekday_is_friday               -0.003533\n",
       " weekday_is_saturday              0.045772\n",
       " weekday_is_sunday                0.052669\n",
       " is_weekend                       0.072280\n",
       " LDA_00                           0.009512\n",
       " LDA_01                          -0.024683\n",
       " LDA_02                          -0.122852\n",
       " LDA_03                           0.120903\n",
       " LDA_04                           0.006378\n",
       " global_subjectivity              0.055849\n",
       " global_sentiment_polarity        0.025260\n",
       " global_rate_positive_words       0.025851\n",
       " global_rate_negative_words       0.004050\n",
       " rate_positive_words             -0.007274\n",
       " rate_negative_words             -0.027755\n",
       " avg_positive_polarity            0.022246\n",
       " min_positive_polarity           -0.003742\n",
       " max_positive_polarity            0.019309\n",
       " avg_negative_polarity           -0.034155\n",
       " min_negative_polarity           -0.020891\n",
       " max_negative_polarity           -0.015174\n",
       " title_subjectivity               0.042305\n",
       " title_sentiment_polarity         0.035279\n",
       " abs_title_subjectivity           0.001105\n",
       " abs_title_sentiment_polarity     0.044469\n",
       " shares                           0.342206\n",
       "Name: Popularity, dtype: float64"
      ]
     },
     "execution_count": 35,
     "metadata": {},
     "output_type": "execute_result"
    }
   ],
   "source": [
    "pearson_corr = data.corr(method=\"pearson\")['Popularity'][:-1]\n",
    "pearson_corr"
   ]
  },
  {
   "cell_type": "code",
   "execution_count": 36,
   "id": "a5528669",
   "metadata": {},
   "outputs": [
    {
     "data": {
      "text/plain": [
       " timedelta                        0.023800\n",
       " n_tokens_title                  -0.017612\n",
       " n_tokens_content                -0.017408\n",
       " n_unique_tokens                 -0.004316\n",
       " n_non_stop_words                -0.015852\n",
       " n_non_stop_unique_tokens        -0.025722\n",
       " num_hrefs                        0.045670\n",
       " num_self_hrefs                   0.002633\n",
       " num_imgs                         0.039320\n",
       " num_videos                       0.058380\n",
       " average_token_length            -0.038647\n",
       " num_keywords                     0.045851\n",
       " data_channel_is_lifestyle        0.023560\n",
       " data_channel_is_entertainment   -0.045860\n",
       " data_channel_is_bus             -0.039556\n",
       " data_channel_is_socmed           0.057217\n",
       " data_channel_is_tech             0.017562\n",
       " data_channel_is_world           -0.110713\n",
       " kw_min_min                       0.007671\n",
       " kw_max_min                       0.047283\n",
       " kw_avg_min                       0.037796\n",
       " kw_min_max                       0.037525\n",
       " kw_max_max                      -0.000906\n",
       " kw_avg_max                       0.040440\n",
       " kw_min_avg                       0.066967\n",
       " kw_max_avg                       0.160101\n",
       " kw_avg_avg                       0.170991\n",
       " self_reference_min_shares        0.107779\n",
       " self_reference_max_shares        0.100829\n",
       " self_reference_avg_sharess       0.116174\n",
       " weekday_is_monday               -0.001748\n",
       " weekday_is_tuesday              -0.020743\n",
       " weekday_is_wednesday            -0.019599\n",
       " weekday_is_thursday             -0.017468\n",
       " weekday_is_friday               -0.003533\n",
       " weekday_is_saturday              0.045772\n",
       " weekday_is_sunday                0.052669\n",
       " is_weekend                       0.072280\n",
       " LDA_00                          -0.010625\n",
       " LDA_01                          -0.021739\n",
       " LDA_02                          -0.094843\n",
       " LDA_03                           0.081248\n",
       " LDA_04                          -0.016868\n",
       " global_subjectivity              0.073453\n",
       " global_sentiment_polarity        0.025648\n",
       " global_rate_positive_words       0.027706\n",
       " global_rate_negative_words       0.000295\n",
       " rate_positive_words              0.008075\n",
       " rate_negative_words             -0.023973\n",
       " avg_positive_polarity            0.035179\n",
       " min_positive_polarity           -0.015582\n",
       " max_positive_polarity            0.029891\n",
       " avg_negative_polarity           -0.029628\n",
       " min_negative_polarity           -0.019210\n",
       " max_negative_polarity           -0.007485\n",
       " title_subjectivity               0.033351\n",
       " title_sentiment_polarity         0.029035\n",
       " abs_title_subjectivity          -0.001248\n",
       " abs_title_sentiment_polarity     0.028840\n",
       " shares                           0.574445\n",
       "Name: Popularity, dtype: float64"
      ]
     },
     "execution_count": 36,
     "metadata": {},
     "output_type": "execute_result"
    }
   ],
   "source": [
    "kendall_corr = data.corr(method=\"kendall\")['Popularity'][:-1]\n",
    "kendall_corr"
   ]
  },
  {
   "cell_type": "code",
   "execution_count": 37,
   "id": "e26d4e64",
   "metadata": {},
   "outputs": [
    {
     "data": {
      "text/plain": [
       " timedelta                        0.029125\n",
       " n_tokens_title                  -0.020292\n",
       " n_tokens_content                -0.021301\n",
       " n_unique_tokens                 -0.005284\n",
       " n_non_stop_words                -0.019390\n",
       " n_non_stop_unique_tokens        -0.031489\n",
       " num_hrefs                        0.054623\n",
       " num_self_hrefs                   0.003032\n",
       " num_imgs                         0.044000\n",
       " num_videos                       0.061350\n",
       " average_token_length            -0.047310\n",
       " num_keywords                     0.052428\n",
       " data_channel_is_lifestyle        0.023560\n",
       " data_channel_is_entertainment   -0.045860\n",
       " data_channel_is_bus             -0.039556\n",
       " data_channel_is_socmed           0.057217\n",
       " data_channel_is_tech             0.017562\n",
       " data_channel_is_world           -0.110713\n",
       " kw_min_min                       0.007979\n",
       " kw_max_min                       0.057743\n",
       " kw_avg_min                       0.046281\n",
       " kw_min_max                       0.043184\n",
       " kw_max_max                      -0.000946\n",
       " kw_avg_max                       0.049527\n",
       " kw_min_avg                       0.077151\n",
       " kw_max_avg                       0.196065\n",
       " kw_avg_avg                       0.209417\n",
       " self_reference_min_shares        0.129605\n",
       " self_reference_max_shares        0.121462\n",
       " self_reference_avg_sharess       0.140171\n",
       " weekday_is_monday               -0.001748\n",
       " weekday_is_tuesday              -0.020743\n",
       " weekday_is_wednesday            -0.019599\n",
       " weekday_is_thursday             -0.017468\n",
       " weekday_is_friday               -0.003533\n",
       " weekday_is_saturday              0.045772\n",
       " weekday_is_sunday                0.052669\n",
       " is_weekend                       0.072280\n",
       " LDA_00                          -0.013013\n",
       " LDA_01                          -0.026624\n",
       " LDA_02                          -0.116157\n",
       " LDA_03                           0.099506\n",
       " LDA_04                          -0.020659\n",
       " global_subjectivity              0.089921\n",
       " global_sentiment_polarity        0.031397\n",
       " global_rate_positive_words       0.033911\n",
       " global_rate_negative_words       0.000361\n",
       " rate_positive_words              0.009839\n",
       " rate_negative_words             -0.029185\n",
       " avg_positive_polarity            0.043062\n",
       " min_positive_polarity           -0.017495\n",
       " max_positive_polarity            0.033641\n",
       " avg_negative_polarity           -0.036191\n",
       " min_negative_polarity           -0.022573\n",
       " max_negative_polarity           -0.008608\n",
       " title_subjectivity               0.037905\n",
       " title_sentiment_polarity         0.032735\n",
       " abs_title_subjectivity          -0.001397\n",
       " abs_title_sentiment_polarity     0.032436\n",
       " shares                           0.697914\n",
       "Name: Popularity, dtype: float64"
      ]
     },
     "execution_count": 37,
     "metadata": {},
     "output_type": "execute_result"
    }
   ],
   "source": [
    "spearman_corr = data.corr(method=\"spearman\")[\"Popularity\"][:-1]\n",
    "spearman_corr"
   ]
  },
  {
   "cell_type": "code",
   "execution_count": 43,
   "id": "5a1155f5",
   "metadata": {},
   "outputs": [],
   "source": [
    "nrows,ncols = data.shape"
   ]
  },
  {
   "cell_type": "code",
   "execution_count": 56,
   "id": "3bb0dec8",
   "metadata": {},
   "outputs": [
    {
     "data": {
      "text/plain": [
       "[' timedelta',\n",
       " ' num_hrefs',\n",
       " ' num_self_hrefs',\n",
       " ' num_imgs',\n",
       " ' num_videos',\n",
       " ' num_keywords',\n",
       " ' data_channel_is_lifestyle',\n",
       " ' data_channel_is_socmed',\n",
       " ' data_channel_is_tech',\n",
       " ' kw_min_min',\n",
       " ' kw_max_min',\n",
       " ' kw_avg_min',\n",
       " ' kw_min_max',\n",
       " ' kw_avg_max',\n",
       " ' kw_min_avg',\n",
       " ' kw_max_avg',\n",
       " ' kw_avg_avg',\n",
       " ' self_reference_min_shares',\n",
       " ' self_reference_max_shares',\n",
       " ' self_reference_avg_sharess',\n",
       " ' weekday_is_saturday',\n",
       " ' weekday_is_sunday',\n",
       " ' is_weekend',\n",
       " ' LDA_03',\n",
       " ' global_subjectivity',\n",
       " ' global_sentiment_polarity',\n",
       " ' global_rate_positive_words',\n",
       " ' global_rate_negative_words',\n",
       " ' avg_positive_polarity',\n",
       " ' max_positive_polarity',\n",
       " ' title_subjectivity',\n",
       " ' title_sentiment_polarity',\n",
       " ' abs_title_sentiment_polarity',\n",
       " ' shares']"
      ]
     },
     "execution_count": 56,
     "metadata": {},
     "output_type": "execute_result"
    }
   ],
   "source": [
    "attr_selection = [] \n",
    "for i in range(ncols-2):\n",
    "    if pearson_corr[i] > 0 and spearman_corr[i] > 0 and kendall_corr[i] > 0:\n",
    "        attr_selection.append(data.columns[i+1])\n",
    "attr_selection"
   ]
  },
  {
   "cell_type": "code",
   "execution_count": 48,
   "id": "9b145099",
   "metadata": {},
   "outputs": [
    {
     "data": {
      "text/plain": [
       "60"
      ]
     },
     "execution_count": 48,
     "metadata": {},
     "output_type": "execute_result"
    }
   ],
   "source": [
    "len(pearson_corr)"
   ]
  },
  {
   "cell_type": "code",
   "execution_count": null,
   "id": "61b3cb92",
   "metadata": {},
   "outputs": [],
   "source": []
  }
 ],
 "metadata": {
  "kernelspec": {
   "display_name": "Python 3",
   "language": "python",
   "name": "python3"
  },
  "language_info": {
   "codemirror_mode": {
    "name": "ipython",
    "version": 3
   },
   "file_extension": ".py",
   "mimetype": "text/x-python",
   "name": "python",
   "nbconvert_exporter": "python",
   "pygments_lexer": "ipython3",
   "version": "3.8.8"
  }
 },
 "nbformat": 4,
 "nbformat_minor": 5
}
